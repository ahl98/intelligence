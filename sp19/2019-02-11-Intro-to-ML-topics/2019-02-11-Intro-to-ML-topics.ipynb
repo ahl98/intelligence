{
 "cells": [
  {
   "cell_type": "markdown",
   "metadata": {
    "name": "A Few Useful Things to Know about Machine Learning by Pedro Domingos",
    "type": "sigai_heading"
   },
   "source": [
    "<img src=\"https://ucfai.org//intelligence/sp19/Intro-to-ML-topics/banner.jpg\">\n",
    "\n",
    "<div class=\"col-12\">\n",
    "    <a class=\"btn btn-success btn-block\" href=\"https://ucfai.org/signup\">\n",
    "        First Attendance? Sign Up!\n",
    "    </a>\n",
    "    \n",
    "</div>\n",
    "\n",
    "<div class=\"col-12\">\n",
    "    <h1>Intro to Machine Learning Topics</h1>\n",
    "    <hr>\n",
    "</div>\n",
    "\n",
    "<div style=\"line-height: 2em;\">\n",
    "    <p>by: \n",
    "        <strong> Evan Waldmann</strong>\n",
    "        (<a href=\"https://github.com/Waldmannly\">@Waldmannly</a>)\n",
    "        <strong> John Muchovej</strong>\n",
    "        (<a href=\"https://github.com/ionlights\">@ionlights</a>)\n",
    "     on 2019-02-11</p>\n",
    "</div>"
   ]
  },
  {
   "cell_type": "markdown",
   "metadata": {},
   "source": [
    "**NOTES** \n",
    "* topics: \n"
   ]
  }
 ],
 "metadata": {
  "kernelspec": {
   "display_name": "Python 3",
   "language": "python",
   "name": "python3"
  },
  "language_info": {
   "codemirror_mode": {
    "name": "ipython",
    "version": 3
   },
   "file_extension": ".py",
   "mimetype": "text/x-python",
   "name": "python",
   "nbconvert_exporter": "python",
   "pygments_lexer": "ipython3",
   "version": "3.7.0"
  },
  "ucfai": {
   "authors": [
    {
     "author": "Evan Waldmann",
     "github": "Waldmannly",
     "web": null
    },
    {
     "author": "John Muchovej",
     "github": "ionlights",
     "web": null
    }
   ],
   "date": "2019-02-04",
   "description": "Abstract: Machine learning algorithms can figure out how to perform  important tasks by generalizing from examples. This is often feasible and  cost-effective where manual programming is not. As more data becomes  available, more ambitious problems can be tackled. As a result, machine  learning is widely used in computer science and other fields. However,  developing successful machine learning applications requires a substantial amount of \"black art\" that is hard to find in textbooks. This article summarizes twelve key lessons that machine learning researchers and practitioners have learned. These include pitfalls to avoid, important  issues to focus on, and answers to common questions.",
   "tags": [],
   "title": "A Few Useful Things to Know about Machine Learning by Pedro Domingos"
  }
 },
 "nbformat": 4,
 "nbformat_minor": 2
}
