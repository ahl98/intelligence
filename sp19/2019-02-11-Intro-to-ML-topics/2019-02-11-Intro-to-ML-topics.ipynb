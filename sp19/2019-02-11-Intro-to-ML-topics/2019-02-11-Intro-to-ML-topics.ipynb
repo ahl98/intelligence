{
 "cells": [
  {
   "cell_type": "markdown",
   "metadata": {
    "name": "Intro to Machine Learning Topics",
    "type": "sigai_heading"
   },
   "source": [
    "<img src=\"https://ucfai.org//intelligence/sp19/intro-to-ml-topics/banner.jpg\">\n",
    "\n",
    "<div class=\"col-12\">\n",
    "    <a class=\"btn btn-success btn-block\" href=\"https://ucfai.org/signup\">\n",
    "        First Attendance? Sign Up!\n",
    "    </a>\n",
    "</div>\n",
    "\n",
    "<div class=\"col-12\">\n",
    "    <h1> Intro to Machine Learning Topics </h1>\n",
    "    <hr>\n",
    "</div>\n",
    "\n",
    "<div style=\"line-height: 2em;\">\n",
    "    <p>by: \n",
    "        <strong> Evan Waldmann</strong>\n",
    "        (<a href=\"https://github.com/Waldmannly\">@Waldmannly</a>)\n",
    "    \n",
    "        <strong> John Muchovej</strong>\n",
    "        (<a href=\"https://github.com/ionlights\">@ionlights</a>)\n",
    "     on 2019-02-11</p>\n",
    "</div>"
   ]
  }
 ],
 "metadata": {
  "ucfai": {
   "authors": [
    {
     "author": "Evan Waldmann",
     "github": "Waldmannly",
     "web": null
    },
    {
     "author": "John Muchovej",
     "github": "ionlights",
     "web": null
    }
   ],
   "date": "2019-02-11",
   "description": "Summary: This paper includes a breif introduction to and history of machine learning as well as breif summaries of topics in the field.",
   "tags": [],
   "title": "Intro to Machine Learning Topics"
  }
 },
 "nbformat": 4,
 "nbformat_minor": 2
}
