{
 "cells": [
  {
   "cell_type": "markdown",
   "metadata": {
    "name": "Intro to Machine Learning Topics",
    "type": "sigai_heading"
   },
   "source": [
    "<img src=\"https://ucfai.org//intelligence/sp19/Intro-to-ML-topics/banner.jpg\">\n",
    "\n",
    "<div class=\"col-12\">\n",
    "    <a class=\"btn btn-success btn-block\" href=\"https://ucfai.org/signup\">\n",
    "        First Attendance? Sign Up!\n",
    "    </a>\n",
    "    \n",
    "</div>\n",
    "\n",
    "<div class=\"col-12\">\n",
    "    <h1>Intro to Machine Learning Topics</h1>\n",
    "    <hr>\n",
    "</div>\n",
    "\n",
    "<div style=\"line-height: 2em;\">\n",
    "    <p>by: \n",
    "        <strong> Evan Waldmann</strong>\n",
    "        (<a href=\"https://github.com/Waldmannly\">@Waldmannly</a>)\n",
    "        <strong> John Muchovej</strong>\n",
    "        (<a href=\"https://github.com/ionlights\">@ionlights</a>)\n",
    "     on 2019-02-11</p>\n",
    "</div>"
   ]
  },
  {
   "cell_type": "markdown",
   "metadata": {},
   "source": [
    "**NOTES** \n",
    "* topics: \n"
   ]
  }
 ],
 "metadata": {
  "kernelspec": {
   "display_name": "Python 3",
   "language": "python",
   "name": "python3"
  },
  "language_info": {
   "codemirror_mode": {
    "name": "ipython",
    "version": 3
   },
   "file_extension": ".py",
   "mimetype": "text/x-python",
   "name": "python",
   "nbconvert_exporter": "python",
   "pygments_lexer": "ipython3",
   "version": "3.7.0"
  },
  "ucfai": {
   "authors": [
    {
     "author": "Evan Waldmann",
     "github": "Waldmannly",
     "web": null
    },
    {
     "author": "John Muchovej",
     "github": "ionlights",
     "web": null
    }
   ],
   "date": "2019-02-11",
   "description": "This paper includes a breif introduction to and history of machine
   learning as well as breif summaries of topics in the field.",
   "tags": [],
   "title": "Intro to Machine Learning Topics"
  }
 },
 "nbformat": 4,
 "nbformat_minor": 2
}
