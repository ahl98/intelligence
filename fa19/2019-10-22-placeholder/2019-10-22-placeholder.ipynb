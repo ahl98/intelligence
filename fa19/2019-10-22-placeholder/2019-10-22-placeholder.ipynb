{
 "cells": [
  {
   "cell_type": "markdown",
   "metadata": {
    "name": "Placeholder (Paper decided on in 1st Meeting)",
    "nb-title": true
   },
   "source": [
    "<img src=\"https://ucfai.org//intelligence/fa19/placeholder/banner.jpg\">\n",
    "\n",
    "<div class=\"col-12\">\n",
    "    <a class=\"btn btn-success btn-block\" href=\"https://ucfai.org/signup\">\n",
    "        First Attendance? Sign Up!\n",
    "    </a>\n",
    "</div>\n",
    "\n",
    "<div class=\"col-12\">\n",
    "    <h1> Placeholder (Paper decided on in 1st Meeting) </h1>\n",
    "    <hr>\n",
    "</div>\n",
    "\n",
    "<div style=\"line-height: 2em;\">\n",
    "    <p>by: \n",
    "        <strong> John Muchovej</strong>\n",
    "        (<a href=\"https://github.com/ionlights\">@ionlights</a>)\n",
    "    \n",
    "        <strong> None</strong>\n",
    "        (<a href=\"https://github.com/ahl98\">@ahl98</a>)\n",
    "     on 2019-10-22</p>\n",
    "</div>"
   ]
  }
 ],
 "metadata": {
  "autobot": {
   "authors": [
    {
     "author": "John Muchovej",
     "github": "ionlights",
     "web": null
    },
    {
     "author": null,
     "github": "ahl98",
     "web": null
    }
   ],
   "date": "2019-10-22",
   "description": "",
   "tags": [],
   "title": "Placeholder (Paper decided on in 1st Meeting)"
  }
 },
 "nbformat": 4,
 "nbformat_minor": 2
}
