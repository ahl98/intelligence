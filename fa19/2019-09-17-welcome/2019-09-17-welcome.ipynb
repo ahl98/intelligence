{
 "cells": [
  {
   "cell_type": "markdown",
   "metadata": {
    "name": "Welcome to the Intelligence Group!",
    "nb-title": true
   },
   "source": [
    "<img src=\"https://ucfai.org//intelligence/fa19/welcome/banner.jpg\">\n",
    "\n",
    "<div class=\"col-12\">\n",
    "    <a class=\"btn btn-success btn-block\" href=\"https://ucfai.org/signup\">\n",
    "        First Attendance? Sign Up!\n",
    "    </a>\n",
    "</div>\n",
    "\n",
    "<div class=\"col-12\">\n",
    "    <h1> Welcome to the Intelligence Group! </h1>\n",
    "    <hr>\n",
    "</div>\n",
    "\n",
    "<div style=\"line-height: 2em;\">\n",
    "    <p>by: \n",
    "        <strong> John Muchovej</strong>\n",
    "        (<a href=\"https://github.com/ionlights\">@ionlights</a>)\n",
    "    \n",
    "        <strong> None</strong>\n",
    "        (<a href=\"https://github.com/ahl98\">@ahl98</a>)\n",
    "     on 2019-09-17</p>\n",
    "</div>"
   ]
  }
 ],
 "metadata": {
  "autobot": {
   "authors": [
    {
     "author": "John Muchovej",
     "github": "ionlights",
     "web": null
    },
    {
     "author": null,
     "github": "ahl98",
     "web": null
    }
   ],
   "date": "2019-09-17",
   "description": "Welcome to the Intelligence group! This meeting, we'll be discerning everyone's research interests, whether passive or active. Following that, we'll start narrowing paper topics to fill the 5 unplanned meetings so everyone can begin getting a feel for the breadth of computation as a field of research.",
   "tags": [],
   "title": "Welcome to the Intelligence Group!"
  }
 },
 "nbformat": 4,
 "nbformat_minor": 2
}
