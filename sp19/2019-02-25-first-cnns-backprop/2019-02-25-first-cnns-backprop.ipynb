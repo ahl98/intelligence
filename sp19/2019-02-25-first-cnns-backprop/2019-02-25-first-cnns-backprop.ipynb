{
 "cells": [
  {
   "cell_type": "markdown",
   "metadata": {
    "name": "Handwritten Digit Recognition with a Back-Propagation Network",
    "type": "sigai_heading"
   },
   "source": [
    "<img src=\"https://ucfai.org//intelligence/sp19/first-cnns-backprop/banner.jpg\">\n",
    "\n",
    "<div class=\"col-12\">\n",
    "    <a class=\"btn btn-success btn-block\" href=\"https://ucfai.org/signup\">\n",
    "        First Attendance? Sign Up!\n",
    "    </a>\n",
    "</div>\n",
    "\n",
    "<div class=\"col-12\">\n",
    "    <h1> Handwritten Digit Recognition with a Back-Propagation Network </h1>\n",
    "    <hr>\n",
    "</div>\n",
    "\n",
    "<div style=\"line-height: 2em;\">\n",
    "    <p>by: \n",
    "        <strong> Evan Waldmann</strong>\n",
    "        (<a href=\"https://github.com/Waldmannly\">@Waldmannly</a>)\n",
    "    \n",
    "        <strong> John Muchovej</strong>\n",
    "        (<a href=\"https://github.com/ionlights\">@ionlights</a>)\n",
    "     on 2019-02-25</p>\n",
    "</div>"
   ]
  }
 ],
 "metadata": {
  "ucfai": {
   "authors": [
    {
     "author": "Evan Waldmann",
     "github": "Waldmannly",
     "web": null
    },
    {
     "author": "John Muchovej",
     "github": "ionlights",
     "web": null
    }
   ],
   "date": "2019-02-25",
   "description": "Abstract: We present an application of back-propagation networks to      hand-written digit recognition. Minimal preprocessing of the data was required, but architecture of the network was highly constrained and      specifically designed for the task. The input of the network consists of   nromalized images of isolated digits. The method has 1% error rate and about a 9% reject rate on zipcode digits provided by the US Postal Service.",
   "tags": [],
   "title": "Handwritten Digit Recognition with a Back-Propagation Network"
  }
 },
 "nbformat": 4,
 "nbformat_minor": 2
}
